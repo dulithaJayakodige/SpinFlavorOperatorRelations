{
 "cells": [
  {
   "cell_type": "code",
   "execution_count": 1,
   "id": "22fd3e52-2396-4bbd-8a1c-deff0da3d8db",
   "metadata": {},
   "outputs": [],
   "source": [
    "import numpy as np\n",
    "from sympy.physics.quantum.cg import CG # caleb gordon coefficients\n",
    "import itertools\n",
    "import random"
   ]
  },
  {
   "cell_type": "markdown",
   "id": "bed1ba14-032d-4814-8bf6-36d88645bb00",
   "metadata": {},
   "source": [
    "equation : $ G^{lc} G^{i a} G^{lc} = \\frac{1}{16}\\left(-8+3 N_{c}\\left(4+N_{c}\\right)\\right) G^{i a}-\\frac{1}{4}S^{2} G^{i a}-\\frac{1}{4} G^{i a} S^{2}$"
   ]
  },
  {
   "cell_type": "code",
   "execution_count": 2,
   "id": "5d79c038-2151-4c73-aefc-5dd42be208d5",
   "metadata": {},
   "outputs": [],
   "source": [
    "# definitions of operators\n",
    "def Gia(Sp,Sp3,Ip3,i,a,S,S3,I3,Nc):\n",
    "    cg = CG(S,S3,1,i, Sp,Sp3).doit()  *CG(S,I3,1,a, Sp,Ip3).doit() \n",
    "    MEGia = 1/4 * ((2*S+1) /(2*Sp+1))**0.5 *  (abs((Nc+2)**2 - (S-Sp)**2 *(S+Sp+1)**2))**0.5 *cg\n",
    "    return MEGia\n",
    "\n",
    "def NcGia(Sp,Sp3,Ip3,i,a,S,S3,I3,Nc):\n",
    "    MENcGia =   Gia(Sp,Sp3,Ip3,i,a,S,S3,I3,Nc)* Nc\n",
    "    return MENcGia\n",
    "\n",
    "def Nc2Gia(Sp,Sp3,Ip3,i,a,S,S3,I3,Nc):\n",
    "    MENc2Gia =  Gia(Sp,Sp3,Ip3,i,a,S,S3,I3,Nc)* Nc**2\n",
    "    return MENc2Gia\n",
    "\n",
    "def Nc3Gia(Sp,Sp3,Ip3,i,a,S,S3,I3,Nc):\n",
    "    MENc3Gia =  Gia(Sp,Sp3,Ip3,i,a,S,S3,I3,Nc)* Nc**3\n",
    "    return MENc3Gia\n",
    "\n",
    "def GiaS2(Sp,Sp3,Ip3,i,a,S,S3,I3,Nc):\n",
    "    MEGiaS2 = (S*(S+1))*  Gia(Sp,Sp3,Ip3,i,a,S,S3,I3,Nc)\n",
    "    return MEGiaS2\n",
    "\n",
    "def NcGiaS2(Sp,Sp3,Ip3,i,a,S,S3,I3,Nc):\n",
    "    MENcGiaS2 = (S*(S+1))*  Gia(Sp,Sp3,Ip3,i,a,S,S3,I3,Nc)* Nc\n",
    "    return MENcGiaS2\n",
    "\n",
    "def S2Gia(Sp,Sp3,Ip3,i,a,S,S3,I3,Nc):\n",
    "    MES2Gia = (Sp*(Sp+1))* Gia(Sp,Sp3,Ip3,i,a,S,S3,I3,Nc)\n",
    "    return MES2Gia\n",
    "\n",
    "def NcS2Gia(Sp,Sp3,Ip3,i,a,S,S3,I3,Nc):\n",
    "    MENcS2Gia = (Sp*(Sp+1))* Gia(Sp,Sp3,Ip3,i,a,S,S3,I3,Nc)* Nc\n",
    "    return MENcS2Gia\n",
    "\n",
    "def GGiaG(Sp,Sp3,Ip3,i,a,S,S3,I3,Nc):\n",
    "    # Define the range for each variable to sum over\n",
    "    lc_values = np.arange(-1, 2)\n",
    "    Spp_values = np.arange( abs(S-1), S+2)\n",
    "    Sppp_values = np.arange( abs(Sp-1), Sp+2)\n",
    "    \n",
    "    MEGGiaG = sum((-1.0)**(l+c) *Gia(Sp,Sp3,Ip3,l,c,Sppp,Sp3-l,Ip3-c,Nc)*Gia(Sppp,Sp3-l,Ip3-c,i,a,Spp,S3-l,I3-c,Nc)*Gia(Spp,S3-l,I3-c,-l,-c,S,S3,I3,Nc) for l,c,Spp,Sppp in itertools.product(lc_values,lc_values,Spp_values,Sppp_values))\n",
    "    return MEGGiaG"
   ]
  },
  {
   "cell_type": "code",
   "execution_count": 3,
   "id": "8a2ce513-277a-4718-be51-988c1c5fe4a0",
   "metadata": {},
   "outputs": [],
   "source": [
    "# LeftHandSide and RightHandSide of the qeuation\n",
    "def LHS(Sp,Sp3,Ip3,i,a,S,S3,I3,Nc):\n",
    "    return GGiaG(Sp,Sp3,Ip3,i,a,S,S3,I3,Nc)\n",
    "\n",
    "def RHS(Sp,Sp3,Ip3,i,a,S,S3,I3,Nc):\n",
    "    return c0*Gia(Sp,Sp3,Ip3,i,a,S,S3,I3,Nc) + c1*NcGia(Sp,Sp3,Ip3,i,a,S,S3,I3,Nc) + c2*Nc2Gia(Sp,Sp3,Ip3,i,a,S,S3,I3,Nc) + c3*GiaS2(Sp,Sp3,Ip3,i,a,S,S3,I3,Nc) + c4*S2Gia(Sp,Sp3,Ip3,i,a,S,S3,I3,Nc)\n"
   ]
  },
  {
   "cell_type": "markdown",
   "id": "d6dd3b09-d159-44c4-943e-75a47cd6a98c",
   "metadata": {},
   "source": [
    "Let's test correct values of these coefficients (c0, c1,...,c4) using random inputs "
   ]
  },
  {
   "cell_type": "raw",
   "id": "400f2736-cf8a-40d0-82a3-34d17d2b0a23",
   "metadata": {},
   "source": [
    "#correct values of coefficients\n",
    "c0= -1/2; c1= 3/4; c2= 3/16; c3= -1/4; c4= -1/4;\n",
    "\n",
    "Nc_max = 7 # This the the maximum value for Nc variable\n",
    "pool_i_a = np.arange(-1, 2) # all posible values for i and a variables. \n",
    "\n",
    "# Randomly select values\n",
    "for k in range(5):\n",
    "    r_Nc = random.choice( np.arange(3, Nc_max+1,2) ) # Nc = 3,5,7...,Nc_max\n",
    "    r_i = random.choice(pool_i_a) # i = -1,0,1\n",
    "    r_a = random.choice(pool_i_a) # a = -1,0,1\n",
    "\n",
    "    for kk in range(5):\n",
    "        r_S = random.choice( np.arange(1/2, r_Nc/2+1) ) # S = 1/2,3/2,...,Nc/2\n",
    "        r_Sp = random.choice( np.arange(1/2, r_Nc/2+1) ) # Sp = 1/2,3/2,...,Nc/2\n",
    "        \n",
    "        for kkk in range(5):\n",
    "            r_S3 = random.choice( np.arange(-r_S, r_S+1) ) # S3 = -S,-S+1,...,+S\n",
    "            r_Sp3 = random.choice( np.arange(-r_Sp, r_Sp+1) ) # Sp3 = -Sp,-Sp+1,...,+Sp\n",
    "            r_I3 = random.choice( np.arange(-r_S, r_S+1) ) # I3 = -S,-S+1,...,+S\n",
    "            r_Ip3 = random.choice( np.arange(-r_Sp, r_Sp+1) ) # Ip3 = -Sp,-Sp+1,...,+Sp\n",
    "\n",
    "            print( (LHS(r_Sp,r_Sp3,r_Ip3,r_i,r_a,r_S,r_S3,r_I3,r_Nc) , RHS(r_Sp,r_Sp3,r_Ip3,r_i,r_a,r_S,r_S3,r_I3,r_Nc)) , (r_Sp,r_Sp3,r_Ip3,r_i,r_a,r_S,r_S3,r_I3,r_Nc) )\n"
   ]
  },
  {
   "cell_type": "code",
   "execution_count": null,
   "id": "b462a0da-e005-4f11-a8fd-64bf4389a427",
   "metadata": {},
   "outputs": [],
   "source": []
  }
 ],
 "metadata": {
  "kernelspec": {
   "display_name": "Python 3 (ipykernel)",
   "language": "python",
   "name": "python3"
  },
  "language_info": {
   "codemirror_mode": {
    "name": "ipython",
    "version": 3
   },
   "file_extension": ".py",
   "mimetype": "text/x-python",
   "name": "python",
   "nbconvert_exporter": "python",
   "pygments_lexer": "ipython3",
   "version": "3.9.10"
  }
 },
 "nbformat": 4,
 "nbformat_minor": 5
}
